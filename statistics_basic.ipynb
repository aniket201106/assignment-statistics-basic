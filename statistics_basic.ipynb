{
  "nbformat": 4,
  "nbformat_minor": 0,
  "metadata": {
    "colab": {
      "provenance": []
    },
    "kernelspec": {
      "name": "python3",
      "display_name": "Python 3"
    },
    "language_info": {
      "name": "python"
    }
  },
  "cells": [
    {
      "cell_type": "markdown",
      "source": [
        "statistics basic"
      ],
      "metadata": {
        "id": "g_Exf7G18j5n"
      }
    },
    {
      "cell_type": "markdown",
      "source": [
        " What is statistics, and why is it important?\n",
        " Statistics is a mathematical science including methods of collecting, organizing and analysing data in such a way that meaningful conclusions\n",
        " can be drawn from them.\n",
        "\n",
        " What are the two main types of statistics?\n",
        " Descriptive Statistics\n",
        " Inferential Statistics\n",
        "\n",
        " What are descriptive statistics?\n",
        " It consists of organizing and summarising the complete data/population\n",
        "\n",
        " What is inferential statistics?\n",
        " It consists of using sample data that has been measured to form conclusion about a population\n",
        "\n",
        " What is sampling in statistics?\n",
        "  Sampling is the process of selecting a subset of individuals from a population to represent the whole population.\n",
        "\n",
        "  What are the different types of sampling methods?\n",
        "  Random Sampling\n",
        "  Stratified Sampling\n",
        "  Systematic Sampling\n",
        "  Cluster Sampling\n",
        "  Convenience Sampling\n",
        "  quota sampling\n",
        "  mini-max sampling\n",
        "  accidental sampling\n",
        "\n",
        "   What is the difference between random and non-random sampling?\n",
        "   Random Sampling: Every member has an equal chance of selection.\n",
        "  Non-Random Sampling: Selection is based on factors like convenience or judgment.\n",
        "\n",
        "  Define and give examples of qualitative and quantitative data?\n",
        "  Qualitative (Categorical): Describes qualities (e.g., colors, names)\n",
        "  Quantitative (Numerical): Represents numbers (e.g., height, weight)\n",
        "\n",
        "   What are the different types of data in statistics?\n",
        "   Qualitative (Nominal, Ordinal)\n",
        "  Quantitative (Discrete, Continuous)\n",
        "\n",
        "   Explain nominal, ordinal, interval, and ratio levels of measurement.\n",
        "   Nominal: Categories (e.g., gender)\n",
        "   Ordinal: Order matters (e.g., ranks)\n",
        "   Interval: Equal intervals, no true zero (e.g., temperature in °C)\n",
        "  Ratio: Equal intervals and true zero (e.g., height, weight)\n",
        "\n",
        "  What is the measure of central tendency?\n",
        "  It indicates the center or average of a dataset (mean, median, mode).\n",
        "\n",
        "   Define mean, median, and mode.\n",
        "   Mean: Average value\n",
        "   Median: Middle value\n",
        "   Mode: Most frequent value\n",
        "\n",
        "   What is the significance of the measure of central tendency?\n",
        "   It helps to summarize a large set of data with a single representative value.\n",
        "\n",
        "   What is variance, and how is it calculated?\n",
        "   Variance measures the spread of data from the mean.\n",
        "  Formula: Variance = Σ(x - mean)² / N (for population)   \n",
        "  \n",
        "  What is standard deviation, and why is it important?\n",
        "  Standard deviation is the square root of variance. It shows how much data deviates from the mean.\n",
        "\n",
        "  Define and explain the term range in statistics.\n",
        "  Range is the difference between the highest and lowest values.\n",
        "Range = Max - Min\n",
        "\n",
        "  What is the difference between variance and standard deviation?\n",
        "  Variance: Average squared deviation\n",
        "  Standard Deviation: Square root of variance\n",
        "\n",
        "  What is skewness in a dataset?\n",
        "  Skewness measures the asymmetry of data distribution.\n",
        "\n",
        "Positive skew: Tail on right\n",
        "\n",
        "Negative skew: Tail on left\n",
        "\n",
        "   What does it mean if a dataset is positively or negatively skewed?\n",
        "    Positively Skewed: Mean > Median\n",
        "    Negatively Skewed: Mean < Median\n",
        "\n",
        "   Define and explain kurtosis.\n",
        "    Kurtosis measures the \"tailedness\" of a distribution.\n",
        "    High kurtosis: More extreme values (heavy tails)\n",
        "    Low kurtosis: Fewer extremes (light tails)\n",
        "\n",
        "  What is the purpose of covariance?\n",
        "  Covariance shows whether two variables move together.\n",
        "\n",
        "Positive: Move in same direction\n",
        "\n",
        "Negative: Opposite directions\n",
        "\n",
        "   What does correlation measure in statistics?\n",
        "   Correlation measures the strength and direction of a linear relationship between two variables (from -1 to +1).\n",
        "\n",
        "What is the difference between covariance and correlation.\n",
        "Covariance: Measures direction of relationship\n",
        "Correlation: Measures both strength and direction (standardized)\n",
        "\n",
        " What are some real-world applications of statistics?\n",
        "  Business (sales forecasting)\n",
        "  Healthcare (drug trials)\n",
        "  Government (policy decisions)\n",
        "  Sports (performance analysis)\n",
        "  Education (student performance)"
      ],
      "metadata": {
        "id": "0YXInFdC8sZ-"
      }
    },
    {
      "cell_type": "code",
      "source": [
        "# How do you calculate the mean, median, and mode of a dataset?\n",
        "import numpy as np\n",
        "from scipy import stats\n",
        "\n",
        "data = [10, 20, 20, 30, 40, 50, 60]\n",
        "\n",
        "mean = np.mean(data)\n",
        "median = np.median(data)\n",
        "mode = stats.mode(data)\n",
        "\n",
        "print(\"Mean:\", mean)\n",
        "print(\"Median:\", median)\n",
        "print(\"Mode:\", mode.mode)"
      ],
      "metadata": {
        "colab": {
          "base_uri": "https://localhost:8080/"
        },
        "id": "cq-jDtyVFh9h",
        "outputId": "a3bc28e7-5534-4763-cd97-17baca111e56"
      },
      "execution_count": 28,
      "outputs": [
        {
          "output_type": "stream",
          "name": "stdout",
          "text": [
            "Mean: 32.857142857142854\n",
            "Median: 30.0\n",
            "Mode: 20\n"
          ]
        }
      ]
    },
    {
      "cell_type": "code",
      "source": [
        "# Write a Python program to compute the variance and standard deviation of a dataset?\n",
        "variance = np.var(data)\n",
        "std_dev = np.std(data)\n",
        "\n",
        "print(\"Variance:\", variance)\n",
        "print(\"Standard Deviation:\", std_dev)\n"
      ],
      "metadata": {
        "colab": {
          "base_uri": "https://localhost:8080/"
        },
        "id": "RwjLiicgJkby",
        "outputId": "f8c7f3f6-dbd4-4235-ffc4-582226a2bb9c"
      },
      "execution_count": 2,
      "outputs": [
        {
          "output_type": "stream",
          "name": "stdout",
          "text": [
            "Variance: 277.55102040816325\n",
            "Standard Deviation: 16.65986255670086\n"
          ]
        }
      ]
    },
    {
      "cell_type": "code",
      "source": [
        "# Create a dataset and classify it into nominal, ordinal, interval, and ratio types?\n",
        "print(\"Nominal: Categories without order (e.g., colors: red, blue).\")\n",
        "print(\"Ordinal: Categories with order (e.g., grades: A, B, C).\")\n",
        "print(\"Interval: Ordered, equal spacing, no true zero (e.g., temperature in °C).\")\n",
        "print(\"Ratio: Ordered, equal spacing, with true zero (e.g., height, weight).\")\n"
      ],
      "metadata": {
        "colab": {
          "base_uri": "https://localhost:8080/"
        },
        "id": "aycvHFxvKA5e",
        "outputId": "47d101a7-0d38-47c2-b76e-8d2a46449f86"
      },
      "execution_count": 3,
      "outputs": [
        {
          "output_type": "stream",
          "name": "stdout",
          "text": [
            "Nominal: Categories without order (e.g., colors: red, blue).\n",
            "Ordinal: Categories with order (e.g., grades: A, B, C).\n",
            "Interval: Ordered, equal spacing, no true zero (e.g., temperature in °C).\n",
            "Ratio: Ordered, equal spacing, with true zero (e.g., height, weight).\n"
          ]
        }
      ]
    },
    {
      "cell_type": "code",
      "source": [
        "#Implement sampling techniques like random sampling and stratified sampling.\n",
        "import pandas as pd\n",
        "from sklearn.model_selection import train_test_split\n",
        "\n",
        "df = pd.DataFrame({\n",
        "    'Age': np.random.randint(18, 50, 100),\n",
        "    'Group': np.random.choice(['A', 'B'], 100)\n",
        "})\n",
        "\n",
        "# Simple Random\n",
        "simple_sample = df.sample(n=10)\n",
        "print(\"Simple Random Sampling:\\n\", simple_sample)\n",
        "\n",
        "# Stratified Sampling\n",
        "strat_sample, _ = train_test_split(df, stratify=df['Group'], test_size=0.9)\n",
        "print(\"Stratified Sampling:\\n\", strat_sample)\n"
      ],
      "metadata": {
        "colab": {
          "base_uri": "https://localhost:8080/"
        },
        "id": "6AJUIzALKLgT",
        "outputId": "f0132d1d-ce1f-4bc9-a29d-03625f17654b"
      },
      "execution_count": 4,
      "outputs": [
        {
          "output_type": "stream",
          "name": "stdout",
          "text": [
            "Simple Random Sampling:\n",
            "     Age Group\n",
            "96   42     A\n",
            "10   18     A\n",
            "73   38     B\n",
            "7    36     A\n",
            "61   48     A\n",
            "21   29     B\n",
            "20   42     B\n",
            "68   37     A\n",
            "25   18     B\n",
            "34   34     A\n",
            "Stratified Sampling:\n",
            "     Age Group\n",
            "27   25     A\n",
            "23   29     B\n",
            "76   42     A\n",
            "68   37     A\n",
            "37   49     B\n",
            "75   35     B\n",
            "9    39     A\n",
            "34   34     A\n",
            "18   46     B\n",
            "67   43     B\n"
          ]
        }
      ]
    },
    {
      "cell_type": "code",
      "source": [
        "# Write a Python function to calculate the range of a dataset?\n",
        "def calculate_range(data):\n",
        "    return max(data) - min(data)\n",
        "\n",
        "print(\"Range:\", calculate_range(data))\n"
      ],
      "metadata": {
        "colab": {
          "base_uri": "https://localhost:8080/"
        },
        "id": "LjmHSpQYKW3a",
        "outputId": "e97af53a-87ca-47b0-ed39-76e41dd9a9f0"
      },
      "execution_count": 5,
      "outputs": [
        {
          "output_type": "stream",
          "name": "stdout",
          "text": [
            "Range: 50\n"
          ]
        }
      ]
    },
    {
      "cell_type": "code",
      "source": [
        "#Create a dataset and plot its histogram to visualize skewness.\n",
        "import matplotlib.pyplot as plt\n",
        "\n",
        "plt.hist(data, bins=5, color='skyblue', edgecolor='black')\n",
        "plt.title('Histogram')\n",
        "plt.xlabel('Values')\n",
        "plt.ylabel('Frequency')\n",
        "plt.show()\n"
      ],
      "metadata": {
        "colab": {
          "base_uri": "https://localhost:8080/",
          "height": 472
        },
        "id": "AxwJk32XKhE5",
        "outputId": "8a075113-1ec6-425a-bd93-97cd0d8f6bbd"
      },
      "execution_count": 6,
      "outputs": [
        {
          "output_type": "display_data",
          "data": {
            "text/plain": [
              "<Figure size 640x480 with 1 Axes>"
            ],
            "image/png": "[encoded data removed]"
          },
          "metadata": {}
        }
      ]
    },
    {
      "cell_type": "code",
      "source": [
        "#Calculate skewness and kurtosis of a dataset using Python libraries.\n",
        "from scipy.stats import skew, kurtosis\n",
        "\n",
        "print(\"Skewness:\", skew(data))\n",
        "print(\"Kurtosis:\", kurtosis(data))\n"
      ],
      "metadata": {
        "colab": {
          "base_uri": "https://localhost:8080/"
        },
        "id": "BTzoDAJ4Kv52",
        "outputId": "935d778a-53eb-4791-fee5-f4a2586d0b5c"
      },
      "execution_count": 7,
      "outputs": [
        {
          "output_type": "stream",
          "name": "stdout",
          "text": [
            "Skewness: 0.28372927689018057\n",
            "Kurtosis: -1.2208044982698956\n"
          ]
        }
      ]
    },
    {
      "cell_type": "code",
      "source": [
        "# Generate a dataset and demonstrate positive and negative skewness.\n",
        "positive_skew = [1, 2, 3, 4, 5, 6, 50]\n",
        "negative_skew = [50, 6, 5, 4, 3, 2, 1]\n",
        "\n",
        "print(\"Positive Skewness:\", skew(positive_skew))\n",
        "print(\"Negative Skewness:\", skew(negative_skew))\n"
      ],
      "metadata": {
        "colab": {
          "base_uri": "https://localhost:8080/"
        },
        "id": "86IngpfKK6EV",
        "outputId": "1b5d86ba-b025-4210-953a-582f067f0fc8"
      },
      "execution_count": 8,
      "outputs": [
        {
          "output_type": "stream",
          "name": "stdout",
          "text": [
            "Positive Skewness: 2.001265312566783\n",
            "Negative Skewness: 2.001265312566783\n"
          ]
        }
      ]
    },
    {
      "cell_type": "code",
      "source": [
        "# Write a Python script to calculate covariance between two datasets.\n",
        "x = [2, 4, 6, 8]\n",
        "y = [1, 3, 2, 5]\n",
        "\n",
        "cov_matrix = np.cov(x, y)\n",
        "print(\"Covariance:\", cov_matrix[0][1])\n"
      ],
      "metadata": {
        "colab": {
          "base_uri": "https://localhost:8080/"
        },
        "id": "iw7NxOwLLDh2",
        "outputId": "27ea999b-f6bd-4cb8-ec7c-25ea7b183353"
      },
      "execution_count": 9,
      "outputs": [
        {
          "output_type": "stream",
          "name": "stdout",
          "text": [
            "Covariance: 3.6666666666666665\n"
          ]
        }
      ]
    },
    {
      "cell_type": "code",
      "source": [
        "#Write a Python script to calculate the correlation coefficient between two datasets.\n",
        "corr = np.corrcoef(x, y)\n",
        "print(\"Correlation Coefficient:\", corr[0][1])\n"
      ],
      "metadata": {
        "colab": {
          "base_uri": "https://localhost:8080/"
        },
        "id": "Vy84gDnoLMb_",
        "outputId": "98c7f1c7-cdbe-4263-9c23-103b939ae313"
      },
      "execution_count": 10,
      "outputs": [
        {
          "output_type": "stream",
          "name": "stdout",
          "text": [
            "Correlation Coefficient: 0.8315218406202999\n"
          ]
        }
      ]
    },
    {
      "cell_type": "code",
      "source": [
        "#Create a scatter plot to visualize the relationship between two variables.\n",
        "plt.scatter(x, y, color='red')\n",
        "plt.title(\"Scatter Plot\")\n",
        "plt.xlabel(\"X\")\n",
        "plt.ylabel(\"Y\")\n",
        "plt.grid(True)\n",
        "plt.show()\n"
      ],
      "metadata": {
        "colab": {
          "base_uri": "https://localhost:8080/",
          "height": 472
        },
        "id": "aQwbZ-ESLTEG",
        "outputId": "6fb531e3-cf66-4611-f3ac-dbda8b141dda"
      },
      "execution_count": 11,
      "outputs": [
        {
          "output_type": "display_data",
          "data": {
            "text/plain": [
              "<Figure size 640x480 with 1 Axes>"
            ],
            "image/png": "[encoded data removed]"
          },
          "metadata": {}
        }
      ]
    },
    {
      "cell_type": "code",
      "source": [
        "# Implement and compare simple random sampling and systematic sampling\n",
        "# Simple already shown in #4\n",
        "# Systematic Sampling\n",
        "k = 10\n",
        "systematic_sample = df.iloc[::k]\n",
        "print(\"Systematic Sampling:\\n\", systematic_sample.head())\n"
      ],
      "metadata": {
        "colab": {
          "base_uri": "https://localhost:8080/"
        },
        "id": "Gl24l3wJLb8D",
        "outputId": "2e60c67a-bbf4-494a-c055-9992796f83ea"
      },
      "execution_count": 12,
      "outputs": [
        {
          "output_type": "stream",
          "name": "stdout",
          "text": [
            "Systematic Sampling:\n",
            "     Age Group\n",
            "0    25     A\n",
            "10   18     A\n",
            "20   42     B\n",
            "30   34     A\n",
            "40   24     B\n"
          ]
        }
      ]
    },
    {
      "cell_type": "code",
      "source": [
        "#Calculate the mean, median, and mode of grouped data.\n",
        "grouped_data = pd.DataFrame({\n",
        "    'Class': ['0-10', '10-20', '20-30'],\n",
        "    'Frequency': [5, 15, 10]\n",
        "})\n",
        "\n",
        "grouped_data['Mid'] = [5, 15, 25]\n",
        "mean_grouped = sum(grouped_data['Mid'] * grouped_data['Frequency']) / sum(grouped_data['Frequency'])\n",
        "\n",
        "print(\"Mean of grouped data:\", mean_grouped)\n"
      ],
      "metadata": {
        "colab": {
          "base_uri": "https://localhost:8080/"
        },
        "id": "dxd6ZxePLkSr",
        "outputId": "eacf447e-3d48-4a96-92db-dcf7be956afe"
      },
      "execution_count": 13,
      "outputs": [
        {
          "output_type": "stream",
          "name": "stdout",
          "text": [
            "Mean of grouped data: 16.666666666666668\n"
          ]
        }
      ]
    },
    {
      "cell_type": "code",
      "source": [
        "# Simulate data using Python and calculate its central tendency and dispersion.\n",
        "simulated = np.random.normal(loc=50, scale=10, size=1000)\n",
        "\n",
        "print(\"Mean:\", np.mean(simulated))\n",
        "print(\"Median:\", np.median(simulated))\n",
        "print(\"Std Dev:\", np.std(simulated))"
      ],
      "metadata": {
        "colab": {
          "base_uri": "https://localhost:8080/"
        },
        "id": "2Vswvo2nLtUL",
        "outputId": "5afdf834-043a-4850-bd1e-49e45fc02c56"
      },
      "execution_count": 15,
      "outputs": [
        {
          "output_type": "stream",
          "name": "stdout",
          "text": [
            "Mean: 50.21246940962661\n",
            "Median: 50.14492392977585\n",
            "Std Dev: 10.112740983347\n"
          ]
        }
      ]
    },
    {
      "cell_type": "code",
      "source": [
        "#Use NumPy or pandas to summarize a dataset’s descriptive statistics.\n",
        "print(\"Descriptive Stats using Pandas:\\n\", df.describe())\n"
      ],
      "metadata": {
        "colab": {
          "base_uri": "https://localhost:8080/"
        },
        "id": "CAa_J9vMLzBG",
        "outputId": "97c2dab5-b597-4693-b034-862e87a04eb7"
      },
      "execution_count": 16,
      "outputs": [
        {
          "output_type": "stream",
          "name": "stdout",
          "text": [
            "Descriptive Stats using Pandas:\n",
            "               Age\n",
            "count  100.000000\n",
            "mean    35.250000\n",
            "std      9.596269\n",
            "min     18.000000\n",
            "25%     28.000000\n",
            "50%     37.000000\n",
            "75%     42.250000\n",
            "max     49.000000\n"
          ]
        }
      ]
    },
    {
      "cell_type": "code",
      "source": [
        "# Plot a boxplot to understand the spread and identify outliers.\n",
        "import seaborn as sns\n",
        "\n",
        "sns.boxplot(data=df['Age'])\n",
        "plt.title(\"Boxplot of Age\")\n",
        "plt.show()\n"
      ],
      "metadata": {
        "colab": {
          "base_uri": "https://localhost:8080/",
          "height": 433
        },
        "id": "23j2CRtPOOfh",
        "outputId": "1cc08eaf-84c2-418a-f2f1-98992c8b8626"
      },
      "execution_count": 17,
      "outputs": [
        {
          "output_type": "display_data",
          "data": {
            "text/plain": [
              "<Figure size 640x480 with 1 Axes>"
            ],
            "image/png": "[encoded data removed]"
          },
          "metadata": {}
        }
      ]
    },
    {
      "cell_type": "code",
      "source": [
        "#Calculate the interquartile range (IQR) of a dataset.\n",
        "Q1 = np.percentile(df['Age'], 25)\n",
        "Q3 = np.percentile(df['Age'], 75)\n",
        "IQR = Q3 - Q1\n",
        "\n",
        "print(\"Interquartile Range (IQR):\", IQR)\n"
      ],
      "metadata": {
        "colab": {
          "base_uri": "https://localhost:8080/"
        },
        "id": "W_U6qOiLOfgY",
        "outputId": "cd5c42f5-40c1-487d-84dc-c41be941c0c0"
      },
      "execution_count": 18,
      "outputs": [
        {
          "output_type": "stream",
          "name": "stdout",
          "text": [
            "Interquartile Range (IQR): 14.25\n"
          ]
        }
      ]
    },
    {
      "cell_type": "code",
      "source": [
        "# Implement Z-score normalization and explain its significance.\n",
        "from scipy.stats import zscore\n",
        "\n",
        "df['Age_zscore'] = zscore(df['Age'])\n",
        "print(df[['Age', 'Age_zscore']].head())\n"
      ],
      "metadata": {
        "colab": {
          "base_uri": "https://localhost:8080/"
        },
        "id": "VRQfm5BDOmgs",
        "outputId": "bad10a4c-616c-4bb7-e8c0-55dc8fe3e9ad"
      },
      "execution_count": 19,
      "outputs": [
        {
          "output_type": "stream",
          "name": "stdout",
          "text": [
            "   Age  Age_zscore\n",
            "0   25   -1.073504\n",
            "1   18   -1.806629\n",
            "2   37    0.183281\n",
            "3   30   -0.549844\n",
            "4   21   -1.492433\n"
          ]
        }
      ]
    },
    {
      "cell_type": "code",
      "source": [
        "# Compare two datasets using their standard deviations.\n",
        "data1 = np.random.normal(50, 5, 100)\n",
        "data2 = np.random.normal(50, 15, 100)\n",
        "\n",
        "print(\"Std Dev of Data1:\", np.std(data1))\n",
        "print(\"Std Dev of Data2:\", np.std(data2))\n"
      ],
      "metadata": {
        "colab": {
          "base_uri": "https://localhost:8080/"
        },
        "id": "SqGy7qFUOtGN",
        "outputId": "0b4c9205-baec-4fbd-ac91-b65e84a4e847"
      },
      "execution_count": 20,
      "outputs": [
        {
          "output_type": "stream",
          "name": "stdout",
          "text": [
            "Std Dev of Data1: 5.445146950980057\n",
            "Std Dev of Data2: 15.900678659383253\n"
          ]
        }
      ]
    },
    {
      "cell_type": "code",
      "source": [
        "#Write a Python program to visualize covariance using a heatmap.\n",
        "numerical_df = df.select_dtypes(include=np.number)\n",
        "cov_matrix = numerical_df.cov()\n",
        "\n",
        "sns.heatmap(cov_matrix, annot=True, cmap='YlGnBu')\n",
        "plt.title(\"Covariance Heatmap\")\n",
        "plt.show()"
      ],
      "metadata": {
        "colab": {
          "base_uri": "https://localhost:8080/",
          "height": 452
        },
        "id": "-YD49qN2OzxJ",
        "outputId": "44cc665d-5789-4817-e9cb-abc5d02fc46c"
      },
      "execution_count": 22,
      "outputs": [
        {
          "output_type": "display_data",
          "data": {
            "text/plain": [
              "<Figure size 640x480 with 2 Axes>"
            ],
            "image/png": "[encoded data removed]"
          },
          "metadata": {}
        }
      ]
    },
    {
      "cell_type": "code",
      "source": [
        "# Use seaborn to create a correlation matrix for a dataset.\n",
        "numerical_df = df.select_dtypes(include=np.number)\n",
        "corr_matrix = numerical_df.corr()\n",
        "\n",
        "sns.heatmap(corr_matrix, annot=True, cmap='coolwarm')\n",
        "plt.title(\"Correlation Matrix\")\n",
        "plt.show()"
      ],
      "metadata": {
        "colab": {
          "base_uri": "https://localhost:8080/",
          "height": 452
        },
        "id": "ygcm0dl7PAdG",
        "outputId": "e83fe0a2-f4b0-4a9c-8d9b-74a4e01601a7"
      },
      "execution_count": 24,
      "outputs": [
        {
          "output_type": "display_data",
          "data": {
            "text/plain": [
              "<Figure size 640x480 with 2 Axes>"
            ],
            "image/png": "[encoded data removed]"
          },
          "metadata": {}
        }
      ]
    },
    {
      "cell_type": "code",
      "source": [
        "# Generate a dataset and implement both variance and standard deviation computations.\n",
        "new_data = np.random.randint(10, 100, 50)\n",
        "\n",
        "print(\"Generated Data Variance:\", np.var(new_data))\n",
        "print(\"Generated Data Std Dev:\", np.std(new_data))\n"
      ],
      "metadata": {
        "colab": {
          "base_uri": "https://localhost:8080/"
        },
        "id": "GkIoY4lLPQ8E",
        "outputId": "cc4940d3-400e-400e-ab0f-8c23ae37f57b"
      },
      "execution_count": 25,
      "outputs": [
        {
          "output_type": "stream",
          "name": "stdout",
          "text": [
            "Generated Data Variance: 615.2500000000001\n",
            "Generated Data Std Dev: 24.804233509624925\n"
          ]
        }
      ]
    },
    {
      "cell_type": "code",
      "source": [
        "#Visualize skewness and kurtosis using Python libraries like matplotlib or seaborn.\n",
        "sns.histplot(new_data, kde=True)\n",
        "plt.title(\"Skewness & Kurtosis Visualization\")\n",
        "plt.show()\n",
        "\n",
        "print(\"Skewness:\", skew(new_data))\n",
        "print(\"Kurtosis:\", kurtosis(new_data))\n"
      ],
      "metadata": {
        "colab": {
          "base_uri": "https://localhost:8080/",
          "height": 488
        },
        "id": "5iOmC2C0Pz67",
        "outputId": "c57d0f3e-b999-475f-ca50-a6f935cb7b42"
      },
      "execution_count": 26,
      "outputs": [
        {
          "output_type": "display_data",
          "data": {
            "text/plain": [
              "<Figure size 640x480 with 1 Axes>"
            ],
            "image/png": "[encoded data removed]"
          },
          "metadata": {}
        },
        {
          "output_type": "stream",
          "name": "stdout",
          "text": [
            "Skewness: -0.418420138349121\n",
            "Kurtosis: -1.0511936451966406\n"
          ]
        }
      ]
    },
    {
      "cell_type": "code",
      "source": [
        "# Implement the Pearson and Spearman correlation coefficients for a dataset.\n",
        "from scipy.stats import pearsonr, spearmanr\n",
        "\n",
        "pearson_corr, _ = pearsonr(x, y)\n",
        "spearman_corr, _ = spearmanr(x, y)\n",
        "\n",
        "print(\"Pearson Correlation:\", pearson_corr)\n",
        "print(\"Spearman Correlation:\", spearman_corr)\n"
      ],
      "metadata": {
        "colab": {
          "base_uri": "https://localhost:8080/"
        },
        "id": "h30j3Eh7P7Ek",
        "outputId": "9b33309a-b671-4bb8-af9a-3d39d72898c2"
      },
      "execution_count": 27,
      "outputs": [
        {
          "output_type": "stream",
          "name": "stdout",
          "text": [
            "Pearson Correlation: 0.8315218406202999\n",
            "Spearman Correlation: 0.7999999999999999\n"
          ]
        }
      ]
    },
    {
      "cell_type": "code",
      "source": [],
      "metadata": {
        "id": "iqlCuvvJQAT1"
      },
      "execution_count": null,
      "outputs": []
    }
  ]
}